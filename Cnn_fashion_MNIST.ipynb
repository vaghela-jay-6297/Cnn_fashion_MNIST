{
  "nbformat": 4,
  "nbformat_minor": 0,
  "metadata": {
    "colab": {
      "name": "Cnn_fashion_MNIST.ipynb",
      "provenance": [],
      "collapsed_sections": []
    },
    "kernelspec": {
      "name": "python3",
      "display_name": "Python 3"
    },
    "language_info": {
      "name": "python"
    },
    "accelerator": "GPU"
  },
  "cells": [
    {
      "cell_type": "markdown",
      "metadata": {
        "id": "MPCaO7_t4BPT"
      },
      "source": [
        "## Build CNN Model Using colab GPU"
      ]
    },
    {
      "cell_type": "markdown",
      "metadata": {
        "id": "hz0-Jnlr4TeL"
      },
      "source": [
        "### *Project Fashion Classification*\n",
        "\n",
        "This is a dataset of 60,000 28x28 grayscale images of 10 fashion categories, along with a test set of 10,000 images."
      ]
    },
    {
      "cell_type": "markdown",
      "metadata": {
        "id": "ja_wE83K5oSW"
      },
      "source": [
        "### Import Libraries"
      ]
    },
    {
      "cell_type": "code",
      "metadata": {
        "id": "_APutB2Q5zeF"
      },
      "source": [
        "import numpy as np\n",
        "import matplotlib.pyplot as plt\n",
        "import seaborn as sns\n",
        "import keras"
      ],
      "execution_count": 1,
      "outputs": []
    },
    {
      "cell_type": "markdown",
      "metadata": {
        "id": "H_bceVsk6tWn"
      },
      "source": [
        "### Load Dataset"
      ]
    },
    {
      "cell_type": "code",
      "metadata": {
        "id": "7-ZihjfP6wyc",
        "colab": {
          "base_uri": "https://localhost:8080/"
        },
        "outputId": "899ba535-c53a-47a3-8ecd-24e3d7b502de"
      },
      "source": [
        "fashion_mnist = keras.datasets.fashion_mnist.load_data() # returns into forms of tuples.\n",
        "(X_train,y_train), (X_test,y_test) = fashion_mnist # Whole data assign to train & test data"
      ],
      "execution_count": 2,
      "outputs": [
        {
          "output_type": "stream",
          "text": [
            "Downloading data from https://storage.googleapis.com/tensorflow/tf-keras-datasets/train-labels-idx1-ubyte.gz\n",
            "32768/29515 [=================================] - 0s 0us/step\n",
            "Downloading data from https://storage.googleapis.com/tensorflow/tf-keras-datasets/train-images-idx3-ubyte.gz\n",
            "26427392/26421880 [==============================] - 1s 0us/step\n",
            "Downloading data from https://storage.googleapis.com/tensorflow/tf-keras-datasets/t10k-labels-idx1-ubyte.gz\n",
            "8192/5148 [===============================================] - 0s 0us/step\n",
            "Downloading data from https://storage.googleapis.com/tensorflow/tf-keras-datasets/t10k-images-idx3-ubyte.gz\n",
            "4423680/4422102 [==============================] - 0s 0us/step\n"
          ],
          "name": "stdout"
        }
      ]
    },
    {
      "cell_type": "code",
      "metadata": {
        "colab": {
          "base_uri": "https://localhost:8080/"
        },
        "id": "qH_OEJvt8HOg",
        "outputId": "bbd96ebd-34ab-43e3-d0df-60a7d3c8703e"
      },
      "source": [
        "# here 1st is size of data(60,000 images), 2nd is rows, 3rd is columns\n",
        "X_train.shape"
      ],
      "execution_count": 3,
      "outputs": [
        {
          "output_type": "execute_result",
          "data": {
            "text/plain": [
              "(60000, 28, 28)"
            ]
          },
          "metadata": {
            "tags": []
          },
          "execution_count": 3
        }
      ]
    },
    {
      "cell_type": "code",
      "metadata": {
        "colab": {
          "base_uri": "https://localhost:8080/"
        },
        "id": "CzqosHJf8R9U",
        "outputId": "03e655b2-7711-4eb9-9c9e-2eaba9ee42a1"
      },
      "source": [
        "# here show labels(60,000) of images.\n",
        "y_train.shape"
      ],
      "execution_count": 4,
      "outputs": [
        {
          "output_type": "execute_result",
          "data": {
            "text/plain": [
              "(60000,)"
            ]
          },
          "metadata": {
            "tags": []
          },
          "execution_count": 4
        }
      ]
    },
    {
      "cell_type": "code",
      "metadata": {
        "colab": {
          "base_uri": "https://localhost:8080/"
        },
        "id": "QZ0bpma98rB9",
        "outputId": "68cf9aaa-924a-4835-8a6c-a84eda98776d"
      },
      "source": [
        "# test data size\n",
        "X_test.shape, y_test.shape"
      ],
      "execution_count": 5,
      "outputs": [
        {
          "output_type": "execute_result",
          "data": {
            "text/plain": [
              "((10000, 28, 28), (10000,))"
            ]
          },
          "metadata": {
            "tags": []
          },
          "execution_count": 5
        }
      ]
    },
    {
      "cell_type": "code",
      "metadata": {
        "colab": {
          "base_uri": "https://localhost:8080/"
        },
        "id": "2kIevFuB9bHj",
        "outputId": "8d8ff1fa-f09b-40f4-af08-0c9a5a14c540"
      },
      "source": [
        "# note: value of array 0 = white & 255 = black\n",
        "# show single image array of X_train dataset\n",
        "print(\"show image in array -> \\n\",X_train[0])\n",
        "print(\"Label of image is -> {} = Ankle boot \".format(y_train[0])) # 9 is label = Ankle boot"
      ],
      "execution_count": 6,
      "outputs": [
        {
          "output_type": "stream",
          "text": [
            "show image in array -> \n",
            " [[  0   0   0   0   0   0   0   0   0   0   0   0   0   0   0   0   0   0\n",
            "    0   0   0   0   0   0   0   0   0   0]\n",
            " [  0   0   0   0   0   0   0   0   0   0   0   0   0   0   0   0   0   0\n",
            "    0   0   0   0   0   0   0   0   0   0]\n",
            " [  0   0   0   0   0   0   0   0   0   0   0   0   0   0   0   0   0   0\n",
            "    0   0   0   0   0   0   0   0   0   0]\n",
            " [  0   0   0   0   0   0   0   0   0   0   0   0   1   0   0  13  73   0\n",
            "    0   1   4   0   0   0   0   1   1   0]\n",
            " [  0   0   0   0   0   0   0   0   0   0   0   0   3   0  36 136 127  62\n",
            "   54   0   0   0   1   3   4   0   0   3]\n",
            " [  0   0   0   0   0   0   0   0   0   0   0   0   6   0 102 204 176 134\n",
            "  144 123  23   0   0   0   0  12  10   0]\n",
            " [  0   0   0   0   0   0   0   0   0   0   0   0   0   0 155 236 207 178\n",
            "  107 156 161 109  64  23  77 130  72  15]\n",
            " [  0   0   0   0   0   0   0   0   0   0   0   1   0  69 207 223 218 216\n",
            "  216 163 127 121 122 146 141  88 172  66]\n",
            " [  0   0   0   0   0   0   0   0   0   1   1   1   0 200 232 232 233 229\n",
            "  223 223 215 213 164 127 123 196 229   0]\n",
            " [  0   0   0   0   0   0   0   0   0   0   0   0   0 183 225 216 223 228\n",
            "  235 227 224 222 224 221 223 245 173   0]\n",
            " [  0   0   0   0   0   0   0   0   0   0   0   0   0 193 228 218 213 198\n",
            "  180 212 210 211 213 223 220 243 202   0]\n",
            " [  0   0   0   0   0   0   0   0   0   1   3   0  12 219 220 212 218 192\n",
            "  169 227 208 218 224 212 226 197 209  52]\n",
            " [  0   0   0   0   0   0   0   0   0   0   6   0  99 244 222 220 218 203\n",
            "  198 221 215 213 222 220 245 119 167  56]\n",
            " [  0   0   0   0   0   0   0   0   0   4   0   0  55 236 228 230 228 240\n",
            "  232 213 218 223 234 217 217 209  92   0]\n",
            " [  0   0   1   4   6   7   2   0   0   0   0   0 237 226 217 223 222 219\n",
            "  222 221 216 223 229 215 218 255  77   0]\n",
            " [  0   3   0   0   0   0   0   0   0  62 145 204 228 207 213 221 218 208\n",
            "  211 218 224 223 219 215 224 244 159   0]\n",
            " [  0   0   0   0  18  44  82 107 189 228 220 222 217 226 200 205 211 230\n",
            "  224 234 176 188 250 248 233 238 215   0]\n",
            " [  0  57 187 208 224 221 224 208 204 214 208 209 200 159 245 193 206 223\n",
            "  255 255 221 234 221 211 220 232 246   0]\n",
            " [  3 202 228 224 221 211 211 214 205 205 205 220 240  80 150 255 229 221\n",
            "  188 154 191 210 204 209 222 228 225   0]\n",
            " [ 98 233 198 210 222 229 229 234 249 220 194 215 217 241  65  73 106 117\n",
            "  168 219 221 215 217 223 223 224 229  29]\n",
            " [ 75 204 212 204 193 205 211 225 216 185 197 206 198 213 240 195 227 245\n",
            "  239 223 218 212 209 222 220 221 230  67]\n",
            " [ 48 203 183 194 213 197 185 190 194 192 202 214 219 221 220 236 225 216\n",
            "  199 206 186 181 177 172 181 205 206 115]\n",
            " [  0 122 219 193 179 171 183 196 204 210 213 207 211 210 200 196 194 191\n",
            "  195 191 198 192 176 156 167 177 210  92]\n",
            " [  0   0  74 189 212 191 175 172 175 181 185 188 189 188 193 198 204 209\n",
            "  210 210 211 188 188 194 192 216 170   0]\n",
            " [  2   0   0   0  66 200 222 237 239 242 246 243 244 221 220 193 191 179\n",
            "  182 182 181 176 166 168  99  58   0   0]\n",
            " [  0   0   0   0   0   0   0  40  61  44  72  41  35   0   0   0   0   0\n",
            "    0   0   0   0   0   0   0   0   0   0]\n",
            " [  0   0   0   0   0   0   0   0   0   0   0   0   0   0   0   0   0   0\n",
            "    0   0   0   0   0   0   0   0   0   0]\n",
            " [  0   0   0   0   0   0   0   0   0   0   0   0   0   0   0   0   0   0\n",
            "    0   0   0   0   0   0   0   0   0   0]]\n",
            "Label of image is -> 9 = Ankle boot \n"
          ],
          "name": "stdout"
        }
      ]
    },
    {
      "cell_type": "code",
      "metadata": {
        "colab": {
          "base_uri": "https://localhost:8080/",
          "height": 52
        },
        "id": "NlGCPDZ89oky",
        "outputId": "d52e231b-fa8c-4560-c186-d1a2121bb3be"
      },
      "source": [
        "# set image labels.\n",
        "image_labels = ['T-shirt/top','Trouser','Pullover','Dress','Coat','Sandal','Shirt','Sneaker','Bag','Ankle boot']\n",
        "\n",
        "'''\n",
        "0 = T-shirt/top\n",
        "1 = Trouser\n",
        "2 = Pullover\n",
        "3 = Dress\n",
        "4 = Coat\n",
        "5 = Sandal\n",
        "6 = Shirt\n",
        "7 = Sneaker\n",
        "8 = Bag\n",
        "9 = Ankle boot\n",
        "'''"
      ],
      "execution_count": 7,
      "outputs": [
        {
          "output_type": "execute_result",
          "data": {
            "application/vnd.google.colaboratory.intrinsic+json": {
              "type": "string"
            },
            "text/plain": [
              "'\\n0 = T-shirt/top\\n1 = Trouser\\n2 = Pullover\\n3 = Dress\\n4 = Coat\\n5 = Sandal\\n6 = Shirt\\n7 = Sneaker\\n8 = Bag\\n9 = Ankle boot\\n'"
            ]
          },
          "metadata": {
            "tags": []
          },
          "execution_count": 7
        }
      ]
    },
    {
      "cell_type": "code",
      "metadata": {
        "colab": {
          "base_uri": "https://localhost:8080/",
          "height": 282
        },
        "id": "1W5_I5ym_L9K",
        "outputId": "80872b55-b890-402e-d2d7-d3fb216a7cf1"
      },
      "source": [
        "#Note: image resolution is low because high resolution image fetching more computation power.\n",
        "# show first image of X_train dataset in GRAY color.\n",
        "plt.imshow(X_train[0], cmap='Greys')"
      ],
      "execution_count": 8,
      "outputs": [
        {
          "output_type": "execute_result",
          "data": {
            "text/plain": [
              "<matplotlib.image.AxesImage at 0x7f3a11930e50>"
            ]
          },
          "metadata": {
            "tags": []
          },
          "execution_count": 8
        },
        {
          "output_type": "display_data",
          "data": {
            "image/png": "[encoded data removed]",
            "text/plain": [
              "<Figure size 432x288 with 1 Axes>"
            ]
          },
          "metadata": {
            "tags": [],
            "needs_background": "light"
          }
        }
      ]
    },
    {
      "cell_type": "code",
      "metadata": {
        "colab": {
          "base_uri": "https://localhost:8080/",
          "height": 917
        },
        "id": "TEghEBScAU9s",
        "outputId": "a78dfa4d-01a8-4f8e-ea0e-6ff7abf5b535"
      },
      "source": [
        "# for all image figure size\n",
        "plt.figure(figsize=(16,16))\n",
        "\n",
        "# show 25 images randomly\n",
        "j = 1\n",
        "for i in np.random.randint(0, 1000, 25):\n",
        "    # in 1 place show 25 images 5 rows & 5 columns & j = value = (5,5,j)\n",
        "    plt.subplot(5,5,j); j+=1\n",
        "    plt.imshow(X_train[i], cmap='Greys')\n",
        "    plt.axis('off') # off the axis\n",
        "    plt.title('{} {}'.format(image_labels[y_train[i]], y_train[i]))\n"
      ],
      "execution_count": 9,
      "outputs": [
        {
          "output_type": "display_data",
          "data": {
            "image/png": "[encoded data removed]",
            "text/plain": [
              "<Figure size 1152x1152 with 25 Axes>"
            ]
          },
          "metadata": {
            "tags": [],
            "needs_background": "light"
          }
        }
      ]
    },
    {
      "cell_type": "markdown",
      "metadata": {
        "id": "JQidwLCpCx0P"
      },
      "source": [
        "### Change data dimensions becasuse convcation neural network(CNN) get 4 dimensions array"
      ]
    },
    {
      "cell_type": "code",
      "metadata": {
        "colab": {
          "base_uri": "https://localhost:8080/"
        },
        "id": "XYCbj_xtC5cr",
        "outputId": "e3fcf951-b3af-46e9-c5ef-04e5bb35c5b6"
      },
      "source": [
        "# check dimensions\n",
        "print(\"Old image data dimensions are -> {} is x_train data dims, {} is x_test data dims \".format(X_train.ndim, X_test.ndim))\n",
        "print('Shape of x_train -> ',X_train.shape)"
      ],
      "execution_count": 10,
      "outputs": [
        {
          "output_type": "stream",
          "text": [
            "Old image data dimensions are -> 3 is x_train data dims, 3 is x_test data dims \n",
            "Shape of x_train ->  (60000, 28, 28)\n"
          ],
          "name": "stdout"
        }
      ]
    },
    {
      "cell_type": "code",
      "metadata": {
        "colab": {
          "base_uri": "https://localhost:8080/"
        },
        "id": "nxOMvw7wDVPY",
        "outputId": "1492f637-c195-4df4-a262-37662c0f4e45"
      },
      "source": [
        "# now 3dim data convert into 4dim.\n",
        "X_train = np.expand_dims(X_train, -1)\n",
        "X_test = np.expand_dims(X_test, -1)\n",
        "print(\"Updated image data dimensions are -> {} is x_train data dims, {} is x_test data dims \".format(X_train.ndim, X_test.ndim))\n",
        "print('Updated Shape of x_train -> ',X_train.shape)"
      ],
      "execution_count": 11,
      "outputs": [
        {
          "output_type": "stream",
          "text": [
            "Updated image data dimensions are -> 4 is x_train data dims, 4 is x_test data dims \n",
            "Updated Shape of x_train ->  (60000, 28, 28, 1)\n"
          ],
          "name": "stdout"
        }
      ]
    },
    {
      "cell_type": "markdown",
      "metadata": {
        "id": "85gIhaKmD5UL"
      },
      "source": [
        "### Feature Scaling "
      ]
    },
    {
      "cell_type": "code",
      "metadata": {
        "id": "tZT3w6hcEDQP"
      },
      "source": [
        "# fetch scale b/w 0 to 1.\n",
        "X_train = X_train/255 # why 255 ? because image matrix data b/w 0 to 255.\n",
        "X_test = X_test/255"
      ],
      "execution_count": 12,
      "outputs": []
    },
    {
      "cell_type": "code",
      "metadata": {
        "colab": {
          "base_uri": "https://localhost:8080/"
        },
        "id": "TaomX9G3EVsL",
        "outputId": "67e8447c-6859-4c96-9372-4e52470a836c"
      },
      "source": [
        "# show first scalable image data\n",
        "print('First Scalable image -> \\n ', X_train[0])"
      ],
      "execution_count": 13,
      "outputs": [
        {
          "output_type": "stream",
          "text": [
            "First Scalable image -> \n",
            "  [[[0.        ]\n",
            "  [0.        ]\n",
            "  [0.        ]\n",
            "  [0.        ]\n",
            "  [0.        ]\n",
            "  [0.        ]\n",
            "  [0.        ]\n",
            "  [0.        ]\n",
            "  [0.        ]\n",
            "  [0.        ]\n",
            "  [0.        ]\n",
            "  [0.        ]\n",
            "  [0.        ]\n",
            "  [0.        ]\n",
            "  [0.        ]\n",
            "  [0.        ]\n",
            "  [0.        ]\n",
            "  [0.        ]\n",
            "  [0.        ]\n",
            "  [0.        ]\n",
            "  [0.        ]\n",
            "  [0.        ]\n",
            "  [0.        ]\n",
            "  [0.        ]\n",
            "  [0.        ]\n",
            "  [0.        ]\n",
            "  [0.        ]\n",
            "  [0.        ]]\n",
            "\n",
            " [[0.        ]\n",
            "  [0.        ]\n",
            "  [0.        ]\n",
            "  [0.        ]\n",
            "  [0.        ]\n",
            "  [0.        ]\n",
            "  [0.        ]\n",
            "  [0.        ]\n",
            "  [0.        ]\n",
            "  [0.        ]\n",
            "  [0.        ]\n",
            "  [0.        ]\n",
            "  [0.        ]\n",
            "  [0.        ]\n",
            "  [0.        ]\n",
            "  [0.        ]\n",
            "  [0.        ]\n",
            "  [0.        ]\n",
            "  [0.        ]\n",
            "  [0.        ]\n",
            "  [0.        ]\n",
            "  [0.        ]\n",
            "  [0.        ]\n",
            "  [0.        ]\n",
            "  [0.        ]\n",
            "  [0.        ]\n",
            "  [0.        ]\n",
            "  [0.        ]]\n",
            "\n",
            " [[0.        ]\n",
            "  [0.        ]\n",
            "  [0.        ]\n",
            "  [0.        ]\n",
            "  [0.        ]\n",
            "  [0.        ]\n",
            "  [0.        ]\n",
            "  [0.        ]\n",
            "  [0.        ]\n",
            "  [0.        ]\n",
            "  [0.        ]\n",
            "  [0.        ]\n",
            "  [0.        ]\n",
            "  [0.        ]\n",
            "  [0.        ]\n",
            "  [0.        ]\n",
            "  [0.        ]\n",
            "  [0.        ]\n",
            "  [0.        ]\n",
            "  [0.        ]\n",
            "  [0.        ]\n",
            "  [0.        ]\n",
            "  [0.        ]\n",
            "  [0.        ]\n",
            "  [0.        ]\n",
            "  [0.        ]\n",
            "  [0.        ]\n",
            "  [0.        ]]\n",
            "\n",
            " [[0.        ]\n",
            "  [0.        ]\n",
            "  [0.        ]\n",
            "  [0.        ]\n",
            "  [0.        ]\n",
            "  [0.        ]\n",
            "  [0.        ]\n",
            "  [0.        ]\n",
            "  [0.        ]\n",
            "  [0.        ]\n",
            "  [0.        ]\n",
            "  [0.        ]\n",
            "  [0.00392157]\n",
            "  [0.        ]\n",
            "  [0.        ]\n",
            "  [0.05098039]\n",
            "  [0.28627451]\n",
            "  [0.        ]\n",
            "  [0.        ]\n",
            "  [0.00392157]\n",
            "  [0.01568627]\n",
            "  [0.        ]\n",
            "  [0.        ]\n",
            "  [0.        ]\n",
            "  [0.        ]\n",
            "  [0.00392157]\n",
            "  [0.00392157]\n",
            "  [0.        ]]\n",
            "\n",
            " [[0.        ]\n",
            "  [0.        ]\n",
            "  [0.        ]\n",
            "  [0.        ]\n",
            "  [0.        ]\n",
            "  [0.        ]\n",
            "  [0.        ]\n",
            "  [0.        ]\n",
            "  [0.        ]\n",
            "  [0.        ]\n",
            "  [0.        ]\n",
            "  [0.        ]\n",
            "  [0.01176471]\n",
            "  [0.        ]\n",
            "  [0.14117647]\n",
            "  [0.53333333]\n",
            "  [0.49803922]\n",
            "  [0.24313725]\n",
            "  [0.21176471]\n",
            "  [0.        ]\n",
            "  [0.        ]\n",
            "  [0.        ]\n",
            "  [0.00392157]\n",
            "  [0.01176471]\n",
            "  [0.01568627]\n",
            "  [0.        ]\n",
            "  [0.        ]\n",
            "  [0.01176471]]\n",
            "\n",
            " [[0.        ]\n",
            "  [0.        ]\n",
            "  [0.        ]\n",
            "  [0.        ]\n",
            "  [0.        ]\n",
            "  [0.        ]\n",
            "  [0.        ]\n",
            "  [0.        ]\n",
            "  [0.        ]\n",
            "  [0.        ]\n",
            "  [0.        ]\n",
            "  [0.        ]\n",
            "  [0.02352941]\n",
            "  [0.        ]\n",
            "  [0.4       ]\n",
            "  [0.8       ]\n",
            "  [0.69019608]\n",
            "  [0.5254902 ]\n",
            "  [0.56470588]\n",
            "  [0.48235294]\n",
            "  [0.09019608]\n",
            "  [0.        ]\n",
            "  [0.        ]\n",
            "  [0.        ]\n",
            "  [0.        ]\n",
            "  [0.04705882]\n",
            "  [0.03921569]\n",
            "  [0.        ]]\n",
            "\n",
            " [[0.        ]\n",
            "  [0.        ]\n",
            "  [0.        ]\n",
            "  [0.        ]\n",
            "  [0.        ]\n",
            "  [0.        ]\n",
            "  [0.        ]\n",
            "  [0.        ]\n",
            "  [0.        ]\n",
            "  [0.        ]\n",
            "  [0.        ]\n",
            "  [0.        ]\n",
            "  [0.        ]\n",
            "  [0.        ]\n",
            "  [0.60784314]\n",
            "  [0.9254902 ]\n",
            "  [0.81176471]\n",
            "  [0.69803922]\n",
            "  [0.41960784]\n",
            "  [0.61176471]\n",
            "  [0.63137255]\n",
            "  [0.42745098]\n",
            "  [0.25098039]\n",
            "  [0.09019608]\n",
            "  [0.30196078]\n",
            "  [0.50980392]\n",
            "  [0.28235294]\n",
            "  [0.05882353]]\n",
            "\n",
            " [[0.        ]\n",
            "  [0.        ]\n",
            "  [0.        ]\n",
            "  [0.        ]\n",
            "  [0.        ]\n",
            "  [0.        ]\n",
            "  [0.        ]\n",
            "  [0.        ]\n",
            "  [0.        ]\n",
            "  [0.        ]\n",
            "  [0.        ]\n",
            "  [0.00392157]\n",
            "  [0.        ]\n",
            "  [0.27058824]\n",
            "  [0.81176471]\n",
            "  [0.8745098 ]\n",
            "  [0.85490196]\n",
            "  [0.84705882]\n",
            "  [0.84705882]\n",
            "  [0.63921569]\n",
            "  [0.49803922]\n",
            "  [0.4745098 ]\n",
            "  [0.47843137]\n",
            "  [0.57254902]\n",
            "  [0.55294118]\n",
            "  [0.34509804]\n",
            "  [0.6745098 ]\n",
            "  [0.25882353]]\n",
            "\n",
            " [[0.        ]\n",
            "  [0.        ]\n",
            "  [0.        ]\n",
            "  [0.        ]\n",
            "  [0.        ]\n",
            "  [0.        ]\n",
            "  [0.        ]\n",
            "  [0.        ]\n",
            "  [0.        ]\n",
            "  [0.00392157]\n",
            "  [0.00392157]\n",
            "  [0.00392157]\n",
            "  [0.        ]\n",
            "  [0.78431373]\n",
            "  [0.90980392]\n",
            "  [0.90980392]\n",
            "  [0.91372549]\n",
            "  [0.89803922]\n",
            "  [0.8745098 ]\n",
            "  [0.8745098 ]\n",
            "  [0.84313725]\n",
            "  [0.83529412]\n",
            "  [0.64313725]\n",
            "  [0.49803922]\n",
            "  [0.48235294]\n",
            "  [0.76862745]\n",
            "  [0.89803922]\n",
            "  [0.        ]]\n",
            "\n",
            " [[0.        ]\n",
            "  [0.        ]\n",
            "  [0.        ]\n",
            "  [0.        ]\n",
            "  [0.        ]\n",
            "  [0.        ]\n",
            "  [0.        ]\n",
            "  [0.        ]\n",
            "  [0.        ]\n",
            "  [0.        ]\n",
            "  [0.        ]\n",
            "  [0.        ]\n",
            "  [0.        ]\n",
            "  [0.71764706]\n",
            "  [0.88235294]\n",
            "  [0.84705882]\n",
            "  [0.8745098 ]\n",
            "  [0.89411765]\n",
            "  [0.92156863]\n",
            "  [0.89019608]\n",
            "  [0.87843137]\n",
            "  [0.87058824]\n",
            "  [0.87843137]\n",
            "  [0.86666667]\n",
            "  [0.8745098 ]\n",
            "  [0.96078431]\n",
            "  [0.67843137]\n",
            "  [0.        ]]\n",
            "\n",
            " [[0.        ]\n",
            "  [0.        ]\n",
            "  [0.        ]\n",
            "  [0.        ]\n",
            "  [0.        ]\n",
            "  [0.        ]\n",
            "  [0.        ]\n",
            "  [0.        ]\n",
            "  [0.        ]\n",
            "  [0.        ]\n",
            "  [0.        ]\n",
            "  [0.        ]\n",
            "  [0.        ]\n",
            "  [0.75686275]\n",
            "  [0.89411765]\n",
            "  [0.85490196]\n",
            "  [0.83529412]\n",
            "  [0.77647059]\n",
            "  [0.70588235]\n",
            "  [0.83137255]\n",
            "  [0.82352941]\n",
            "  [0.82745098]\n",
            "  [0.83529412]\n",
            "  [0.8745098 ]\n",
            "  [0.8627451 ]\n",
            "  [0.95294118]\n",
            "  [0.79215686]\n",
            "  [0.        ]]\n",
            "\n",
            " [[0.        ]\n",
            "  [0.        ]\n",
            "  [0.        ]\n",
            "  [0.        ]\n",
            "  [0.        ]\n",
            "  [0.        ]\n",
            "  [0.        ]\n",
            "  [0.        ]\n",
            "  [0.        ]\n",
            "  [0.00392157]\n",
            "  [0.01176471]\n",
            "  [0.        ]\n",
            "  [0.04705882]\n",
            "  [0.85882353]\n",
            "  [0.8627451 ]\n",
            "  [0.83137255]\n",
            "  [0.85490196]\n",
            "  [0.75294118]\n",
            "  [0.6627451 ]\n",
            "  [0.89019608]\n",
            "  [0.81568627]\n",
            "  [0.85490196]\n",
            "  [0.87843137]\n",
            "  [0.83137255]\n",
            "  [0.88627451]\n",
            "  [0.77254902]\n",
            "  [0.81960784]\n",
            "  [0.20392157]]\n",
            "\n",
            " [[0.        ]\n",
            "  [0.        ]\n",
            "  [0.        ]\n",
            "  [0.        ]\n",
            "  [0.        ]\n",
            "  [0.        ]\n",
            "  [0.        ]\n",
            "  [0.        ]\n",
            "  [0.        ]\n",
            "  [0.        ]\n",
            "  [0.02352941]\n",
            "  [0.        ]\n",
            "  [0.38823529]\n",
            "  [0.95686275]\n",
            "  [0.87058824]\n",
            "  [0.8627451 ]\n",
            "  [0.85490196]\n",
            "  [0.79607843]\n",
            "  [0.77647059]\n",
            "  [0.86666667]\n",
            "  [0.84313725]\n",
            "  [0.83529412]\n",
            "  [0.87058824]\n",
            "  [0.8627451 ]\n",
            "  [0.96078431]\n",
            "  [0.46666667]\n",
            "  [0.65490196]\n",
            "  [0.21960784]]\n",
            "\n",
            " [[0.        ]\n",
            "  [0.        ]\n",
            "  [0.        ]\n",
            "  [0.        ]\n",
            "  [0.        ]\n",
            "  [0.        ]\n",
            "  [0.        ]\n",
            "  [0.        ]\n",
            "  [0.        ]\n",
            "  [0.01568627]\n",
            "  [0.        ]\n",
            "  [0.        ]\n",
            "  [0.21568627]\n",
            "  [0.9254902 ]\n",
            "  [0.89411765]\n",
            "  [0.90196078]\n",
            "  [0.89411765]\n",
            "  [0.94117647]\n",
            "  [0.90980392]\n",
            "  [0.83529412]\n",
            "  [0.85490196]\n",
            "  [0.8745098 ]\n",
            "  [0.91764706]\n",
            "  [0.85098039]\n",
            "  [0.85098039]\n",
            "  [0.81960784]\n",
            "  [0.36078431]\n",
            "  [0.        ]]\n",
            "\n",
            " [[0.        ]\n",
            "  [0.        ]\n",
            "  [0.00392157]\n",
            "  [0.01568627]\n",
            "  [0.02352941]\n",
            "  [0.02745098]\n",
            "  [0.00784314]\n",
            "  [0.        ]\n",
            "  [0.        ]\n",
            "  [0.        ]\n",
            "  [0.        ]\n",
            "  [0.        ]\n",
            "  [0.92941176]\n",
            "  [0.88627451]\n",
            "  [0.85098039]\n",
            "  [0.8745098 ]\n",
            "  [0.87058824]\n",
            "  [0.85882353]\n",
            "  [0.87058824]\n",
            "  [0.86666667]\n",
            "  [0.84705882]\n",
            "  [0.8745098 ]\n",
            "  [0.89803922]\n",
            "  [0.84313725]\n",
            "  [0.85490196]\n",
            "  [1.        ]\n",
            "  [0.30196078]\n",
            "  [0.        ]]\n",
            "\n",
            " [[0.        ]\n",
            "  [0.01176471]\n",
            "  [0.        ]\n",
            "  [0.        ]\n",
            "  [0.        ]\n",
            "  [0.        ]\n",
            "  [0.        ]\n",
            "  [0.        ]\n",
            "  [0.        ]\n",
            "  [0.24313725]\n",
            "  [0.56862745]\n",
            "  [0.8       ]\n",
            "  [0.89411765]\n",
            "  [0.81176471]\n",
            "  [0.83529412]\n",
            "  [0.86666667]\n",
            "  [0.85490196]\n",
            "  [0.81568627]\n",
            "  [0.82745098]\n",
            "  [0.85490196]\n",
            "  [0.87843137]\n",
            "  [0.8745098 ]\n",
            "  [0.85882353]\n",
            "  [0.84313725]\n",
            "  [0.87843137]\n",
            "  [0.95686275]\n",
            "  [0.62352941]\n",
            "  [0.        ]]\n",
            "\n",
            " [[0.        ]\n",
            "  [0.        ]\n",
            "  [0.        ]\n",
            "  [0.        ]\n",
            "  [0.07058824]\n",
            "  [0.17254902]\n",
            "  [0.32156863]\n",
            "  [0.41960784]\n",
            "  [0.74117647]\n",
            "  [0.89411765]\n",
            "  [0.8627451 ]\n",
            "  [0.87058824]\n",
            "  [0.85098039]\n",
            "  [0.88627451]\n",
            "  [0.78431373]\n",
            "  [0.80392157]\n",
            "  [0.82745098]\n",
            "  [0.90196078]\n",
            "  [0.87843137]\n",
            "  [0.91764706]\n",
            "  [0.69019608]\n",
            "  [0.7372549 ]\n",
            "  [0.98039216]\n",
            "  [0.97254902]\n",
            "  [0.91372549]\n",
            "  [0.93333333]\n",
            "  [0.84313725]\n",
            "  [0.        ]]\n",
            "\n",
            " [[0.        ]\n",
            "  [0.22352941]\n",
            "  [0.73333333]\n",
            "  [0.81568627]\n",
            "  [0.87843137]\n",
            "  [0.86666667]\n",
            "  [0.87843137]\n",
            "  [0.81568627]\n",
            "  [0.8       ]\n",
            "  [0.83921569]\n",
            "  [0.81568627]\n",
            "  [0.81960784]\n",
            "  [0.78431373]\n",
            "  [0.62352941]\n",
            "  [0.96078431]\n",
            "  [0.75686275]\n",
            "  [0.80784314]\n",
            "  [0.8745098 ]\n",
            "  [1.        ]\n",
            "  [1.        ]\n",
            "  [0.86666667]\n",
            "  [0.91764706]\n",
            "  [0.86666667]\n",
            "  [0.82745098]\n",
            "  [0.8627451 ]\n",
            "  [0.90980392]\n",
            "  [0.96470588]\n",
            "  [0.        ]]\n",
            "\n",
            " [[0.01176471]\n",
            "  [0.79215686]\n",
            "  [0.89411765]\n",
            "  [0.87843137]\n",
            "  [0.86666667]\n",
            "  [0.82745098]\n",
            "  [0.82745098]\n",
            "  [0.83921569]\n",
            "  [0.80392157]\n",
            "  [0.80392157]\n",
            "  [0.80392157]\n",
            "  [0.8627451 ]\n",
            "  [0.94117647]\n",
            "  [0.31372549]\n",
            "  [0.58823529]\n",
            "  [1.        ]\n",
            "  [0.89803922]\n",
            "  [0.86666667]\n",
            "  [0.7372549 ]\n",
            "  [0.60392157]\n",
            "  [0.74901961]\n",
            "  [0.82352941]\n",
            "  [0.8       ]\n",
            "  [0.81960784]\n",
            "  [0.87058824]\n",
            "  [0.89411765]\n",
            "  [0.88235294]\n",
            "  [0.        ]]\n",
            "\n",
            " [[0.38431373]\n",
            "  [0.91372549]\n",
            "  [0.77647059]\n",
            "  [0.82352941]\n",
            "  [0.87058824]\n",
            "  [0.89803922]\n",
            "  [0.89803922]\n",
            "  [0.91764706]\n",
            "  [0.97647059]\n",
            "  [0.8627451 ]\n",
            "  [0.76078431]\n",
            "  [0.84313725]\n",
            "  [0.85098039]\n",
            "  [0.94509804]\n",
            "  [0.25490196]\n",
            "  [0.28627451]\n",
            "  [0.41568627]\n",
            "  [0.45882353]\n",
            "  [0.65882353]\n",
            "  [0.85882353]\n",
            "  [0.86666667]\n",
            "  [0.84313725]\n",
            "  [0.85098039]\n",
            "  [0.8745098 ]\n",
            "  [0.8745098 ]\n",
            "  [0.87843137]\n",
            "  [0.89803922]\n",
            "  [0.11372549]]\n",
            "\n",
            " [[0.29411765]\n",
            "  [0.8       ]\n",
            "  [0.83137255]\n",
            "  [0.8       ]\n",
            "  [0.75686275]\n",
            "  [0.80392157]\n",
            "  [0.82745098]\n",
            "  [0.88235294]\n",
            "  [0.84705882]\n",
            "  [0.7254902 ]\n",
            "  [0.77254902]\n",
            "  [0.80784314]\n",
            "  [0.77647059]\n",
            "  [0.83529412]\n",
            "  [0.94117647]\n",
            "  [0.76470588]\n",
            "  [0.89019608]\n",
            "  [0.96078431]\n",
            "  [0.9372549 ]\n",
            "  [0.8745098 ]\n",
            "  [0.85490196]\n",
            "  [0.83137255]\n",
            "  [0.81960784]\n",
            "  [0.87058824]\n",
            "  [0.8627451 ]\n",
            "  [0.86666667]\n",
            "  [0.90196078]\n",
            "  [0.2627451 ]]\n",
            "\n",
            " [[0.18823529]\n",
            "  [0.79607843]\n",
            "  [0.71764706]\n",
            "  [0.76078431]\n",
            "  [0.83529412]\n",
            "  [0.77254902]\n",
            "  [0.7254902 ]\n",
            "  [0.74509804]\n",
            "  [0.76078431]\n",
            "  [0.75294118]\n",
            "  [0.79215686]\n",
            "  [0.83921569]\n",
            "  [0.85882353]\n",
            "  [0.86666667]\n",
            "  [0.8627451 ]\n",
            "  [0.9254902 ]\n",
            "  [0.88235294]\n",
            "  [0.84705882]\n",
            "  [0.78039216]\n",
            "  [0.80784314]\n",
            "  [0.72941176]\n",
            "  [0.70980392]\n",
            "  [0.69411765]\n",
            "  [0.6745098 ]\n",
            "  [0.70980392]\n",
            "  [0.80392157]\n",
            "  [0.80784314]\n",
            "  [0.45098039]]\n",
            "\n",
            " [[0.        ]\n",
            "  [0.47843137]\n",
            "  [0.85882353]\n",
            "  [0.75686275]\n",
            "  [0.70196078]\n",
            "  [0.67058824]\n",
            "  [0.71764706]\n",
            "  [0.76862745]\n",
            "  [0.8       ]\n",
            "  [0.82352941]\n",
            "  [0.83529412]\n",
            "  [0.81176471]\n",
            "  [0.82745098]\n",
            "  [0.82352941]\n",
            "  [0.78431373]\n",
            "  [0.76862745]\n",
            "  [0.76078431]\n",
            "  [0.74901961]\n",
            "  [0.76470588]\n",
            "  [0.74901961]\n",
            "  [0.77647059]\n",
            "  [0.75294118]\n",
            "  [0.69019608]\n",
            "  [0.61176471]\n",
            "  [0.65490196]\n",
            "  [0.69411765]\n",
            "  [0.82352941]\n",
            "  [0.36078431]]\n",
            "\n",
            " [[0.        ]\n",
            "  [0.        ]\n",
            "  [0.29019608]\n",
            "  [0.74117647]\n",
            "  [0.83137255]\n",
            "  [0.74901961]\n",
            "  [0.68627451]\n",
            "  [0.6745098 ]\n",
            "  [0.68627451]\n",
            "  [0.70980392]\n",
            "  [0.7254902 ]\n",
            "  [0.7372549 ]\n",
            "  [0.74117647]\n",
            "  [0.7372549 ]\n",
            "  [0.75686275]\n",
            "  [0.77647059]\n",
            "  [0.8       ]\n",
            "  [0.81960784]\n",
            "  [0.82352941]\n",
            "  [0.82352941]\n",
            "  [0.82745098]\n",
            "  [0.7372549 ]\n",
            "  [0.7372549 ]\n",
            "  [0.76078431]\n",
            "  [0.75294118]\n",
            "  [0.84705882]\n",
            "  [0.66666667]\n",
            "  [0.        ]]\n",
            "\n",
            " [[0.00784314]\n",
            "  [0.        ]\n",
            "  [0.        ]\n",
            "  [0.        ]\n",
            "  [0.25882353]\n",
            "  [0.78431373]\n",
            "  [0.87058824]\n",
            "  [0.92941176]\n",
            "  [0.9372549 ]\n",
            "  [0.94901961]\n",
            "  [0.96470588]\n",
            "  [0.95294118]\n",
            "  [0.95686275]\n",
            "  [0.86666667]\n",
            "  [0.8627451 ]\n",
            "  [0.75686275]\n",
            "  [0.74901961]\n",
            "  [0.70196078]\n",
            "  [0.71372549]\n",
            "  [0.71372549]\n",
            "  [0.70980392]\n",
            "  [0.69019608]\n",
            "  [0.65098039]\n",
            "  [0.65882353]\n",
            "  [0.38823529]\n",
            "  [0.22745098]\n",
            "  [0.        ]\n",
            "  [0.        ]]\n",
            "\n",
            " [[0.        ]\n",
            "  [0.        ]\n",
            "  [0.        ]\n",
            "  [0.        ]\n",
            "  [0.        ]\n",
            "  [0.        ]\n",
            "  [0.        ]\n",
            "  [0.15686275]\n",
            "  [0.23921569]\n",
            "  [0.17254902]\n",
            "  [0.28235294]\n",
            "  [0.16078431]\n",
            "  [0.1372549 ]\n",
            "  [0.        ]\n",
            "  [0.        ]\n",
            "  [0.        ]\n",
            "  [0.        ]\n",
            "  [0.        ]\n",
            "  [0.        ]\n",
            "  [0.        ]\n",
            "  [0.        ]\n",
            "  [0.        ]\n",
            "  [0.        ]\n",
            "  [0.        ]\n",
            "  [0.        ]\n",
            "  [0.        ]\n",
            "  [0.        ]\n",
            "  [0.        ]]\n",
            "\n",
            " [[0.        ]\n",
            "  [0.        ]\n",
            "  [0.        ]\n",
            "  [0.        ]\n",
            "  [0.        ]\n",
            "  [0.        ]\n",
            "  [0.        ]\n",
            "  [0.        ]\n",
            "  [0.        ]\n",
            "  [0.        ]\n",
            "  [0.        ]\n",
            "  [0.        ]\n",
            "  [0.        ]\n",
            "  [0.        ]\n",
            "  [0.        ]\n",
            "  [0.        ]\n",
            "  [0.        ]\n",
            "  [0.        ]\n",
            "  [0.        ]\n",
            "  [0.        ]\n",
            "  [0.        ]\n",
            "  [0.        ]\n",
            "  [0.        ]\n",
            "  [0.        ]\n",
            "  [0.        ]\n",
            "  [0.        ]\n",
            "  [0.        ]\n",
            "  [0.        ]]\n",
            "\n",
            " [[0.        ]\n",
            "  [0.        ]\n",
            "  [0.        ]\n",
            "  [0.        ]\n",
            "  [0.        ]\n",
            "  [0.        ]\n",
            "  [0.        ]\n",
            "  [0.        ]\n",
            "  [0.        ]\n",
            "  [0.        ]\n",
            "  [0.        ]\n",
            "  [0.        ]\n",
            "  [0.        ]\n",
            "  [0.        ]\n",
            "  [0.        ]\n",
            "  [0.        ]\n",
            "  [0.        ]\n",
            "  [0.        ]\n",
            "  [0.        ]\n",
            "  [0.        ]\n",
            "  [0.        ]\n",
            "  [0.        ]\n",
            "  [0.        ]\n",
            "  [0.        ]\n",
            "  [0.        ]\n",
            "  [0.        ]\n",
            "  [0.        ]\n",
            "  [0.        ]]]\n"
          ],
          "name": "stdout"
        }
      ]
    },
    {
      "cell_type": "markdown",
      "metadata": {
        "id": "tXSDw3G8JRw3"
      },
      "source": [
        "### Split Dataset into train Set and validate Set\n",
        "\n",
        "-> Validation set actually can be regarded as a part of training set, because it is used to build your model, neural networks or others. It is usually used for parameter selection and to avoild overfitting. ... Thus a validation set, which is independant from the training set, is used for parameter selection."
      ]
    },
    {
      "cell_type": "code",
      "metadata": {
        "id": "jYDhhtAEJoMg"
      },
      "source": [
        "from sklearn.model_selection import train_test_split\n",
        "X_train_data, X_validate_data, y_train_data, y_validate_data = train_test_split(X_train, y_train, test_size=0.2, random_state=2020) \n",
        "# test_size=0.2 means  20% data for validation set & 80% for training Set."
      ],
      "execution_count": 14,
      "outputs": []
    },
    {
      "cell_type": "code",
      "metadata": {
        "colab": {
          "base_uri": "https://localhost:8080/"
        },
        "id": "ePocyHSlLLNz",
        "outputId": "43a0f810-95d6-4a1a-87ac-fd3eed7a23a3"
      },
      "source": [
        "# show training data shape\n",
        "X_train_data.shape, y_train_data.shape"
      ],
      "execution_count": 15,
      "outputs": [
        {
          "output_type": "execute_result",
          "data": {
            "text/plain": [
              "((48000, 28, 28, 1), (48000,))"
            ]
          },
          "metadata": {
            "tags": []
          },
          "execution_count": 15
        }
      ]
    },
    {
      "cell_type": "code",
      "metadata": {
        "colab": {
          "base_uri": "https://localhost:8080/"
        },
        "id": "ziw7NREoLRvT",
        "outputId": "f3697769-20d3-407b-c473-1459e6e1a8b8"
      },
      "source": [
        "# show Validation data shape\n",
        "X_validate_data.shape, y_validate_data.shape"
      ],
      "execution_count": 16,
      "outputs": [
        {
          "output_type": "execute_result",
          "data": {
            "text/plain": [
              "((12000, 28, 28, 1), (12000,))"
            ]
          },
          "metadata": {
            "tags": []
          },
          "execution_count": 16
        }
      ]
    },
    {
      "cell_type": "markdown",
      "metadata": {
        "id": "knvdqOj-M3uT"
      },
      "source": [
        "### Convolutional Neural Network-Model Building"
      ]
    },
    {
      "cell_type": "code",
      "metadata": {
        "id": "eG14qj9dND-q"
      },
      "source": [
        "cnn_model = keras.models.Sequential([\n",
        "                                     # here add all layers like convo, pooling, fc(flatten), dense...,\n",
        "\n",
        "                                     # 1. layer is convolution layer, we can use -> 32 filtures , -> 3(row,col)kernal size, -> stride(1 row, 1 col), \n",
        "                                     # -> if image size(row & col) not perfect then zero padding set is valid\n",
        "                                     # -> activation fun is relu because relu is negative value denoted by 0, positive value denoted by same positive value,\n",
        "                                     # -> image input size is 28 row, 28 col, 1 color channel(if rgb color so we use 3 channel) \"\"\"\n",
        "\n",
        "                                     keras.layers.Conv2D(filters=32, kernel_size=3, strides=(1,1), padding='valid',activation= 'relu', input_shape=[28,28,1]),\n",
        "\n",
        "                                     # 2. Max pooling Layer pass pool size 2 row, 2 col\n",
        "                                     keras.layers.MaxPool2D(pool_size=(2,2)),\n",
        "\n",
        "                                     # 3. matrix convert into vector/1d array \n",
        "                                     keras.layers.Flatten(),\n",
        "\n",
        "                                     # now add neural network\n",
        "                                     # 1. input layer\n",
        "                                     keras.layers.Dense(units=128, activation='relu'),\n",
        "                                     # 2. output layer\n",
        "                                     keras.layers.Dense(units=10, activation='softmax'),                                                                                                                                               \n",
        "])"
      ],
      "execution_count": 17,
      "outputs": []
    },
    {
      "cell_type": "code",
      "metadata": {
        "colab": {
          "base_uri": "https://localhost:8080/"
        },
        "id": "D2xQ3t4h-5yU",
        "outputId": "bcf90e9e-3ad1-4134-b085-2fc7624b7d7a"
      },
      "source": [
        "# check model summary\n",
        "cnn_model.summary()"
      ],
      "execution_count": 18,
      "outputs": [
        {
          "output_type": "stream",
          "text": [
            "Model: \"sequential\"\n",
            "_________________________________________________________________\n",
            "Layer (type)                 Output Shape              Param #   \n",
            "=================================================================\n",
            "conv2d (Conv2D)              (None, 26, 26, 32)        320       \n",
            "_________________________________________________________________\n",
            "max_pooling2d (MaxPooling2D) (None, 13, 13, 32)        0         \n",
            "_________________________________________________________________\n",
            "flatten (Flatten)            (None, 5408)              0         \n",
            "_________________________________________________________________\n",
            "dense (Dense)                (None, 128)               692352    \n",
            "_________________________________________________________________\n",
            "dense_1 (Dense)              (None, 10)                1290      \n",
            "=================================================================\n",
            "Total params: 693,962\n",
            "Trainable params: 693,962\n",
            "Non-trainable params: 0\n",
            "_________________________________________________________________\n"
          ],
          "name": "stdout"
        }
      ]
    },
    {
      "cell_type": "code",
      "metadata": {
        "colab": {
          "base_uri": "https://localhost:8080/",
          "height": 153
        },
        "id": "F9u8wdbG0wwQ",
        "outputId": "90f651c9-2d10-44ee-bb08-0c28b72c6a34"
      },
      "source": [
        "# compile model\n",
        "cnn_model.compile(optimizer='adam', loss='sparse_categorical_crossentropy', metrics=['accuracy'])\n",
        "\n",
        "'''\n",
        "optimizer-> The optimizer controls the learning rate. We will be using ‘adam’ as our optmizer. \n",
        "Adam is generally a good optimizer to use for many cases. The adam optimizer adjusts the learning rate throughout training.\n",
        "The learning rate determines how fast the optimal weights for the model are calculated. \n",
        "A smaller learning rate may lead to more accurate weights (up to a certain point), but the time it takes to compute the weights will be longer. \n",
        "\n",
        "loss-> to find error rate.\n",
        "We will use ‘categorical_crossentropy’ for our loss function. \n",
        "This is the most common choice for classification. A lower score indicates that the model is performing better.\n",
        "\n",
        "metrics=['accuracy'] ->To make things even easier to interpret, \n",
        "we will use the ‘accuracy’ metric to see the accuracy score on the validation set when we train the model.\n",
        "\n",
        "'''"
      ],
      "execution_count": 19,
      "outputs": [
        {
          "output_type": "execute_result",
          "data": {
            "application/vnd.google.colaboratory.intrinsic+json": {
              "type": "string"
            },
            "text/plain": [
              "\"\\noptimizer-> The optimizer controls the learning rate. We will be using ‘adam’ as our optmizer. \\nAdam is generally a good optimizer to use for many cases. The adam optimizer adjusts the learning rate throughout training.\\nThe learning rate determines how fast the optimal weights for the model are calculated. \\nA smaller learning rate may lead to more accurate weights (up to a certain point), but the time it takes to compute the weights will be longer. \\n\\nloss-> to find error rate.\\nWe will use ‘categorical_crossentropy’ for our loss function. \\nThis is the most common choice for classification. A lower score indicates that the model is performing better.\\n\\nmetrics=['accuracy'] ->To make things even easier to interpret, \\nwe will use the ‘accuracy’ metric to see the accuracy score on the validation set when we train the model.\\n\\n\""
            ]
          },
          "metadata": {
            "tags": []
          },
          "execution_count": 19
        }
      ]
    },
    {
      "cell_type": "code",
      "metadata": {
        "colab": {
          "base_uri": "https://localhost:8080/",
          "height": 458
        },
        "id": "nJ9fkdDj24JI",
        "outputId": "995432c1-d604-447d-de26-7f744a07d913"
      },
      "source": [
        "# train model\n",
        "cnn_model.fit(X_train_data, y_train_data, epochs=10, batch_size=512, verbose=1, validation_data=(X_validate_data, y_validate_data))\n",
        "\n",
        "'''\n",
        "epochs-> The number of epochs is the number of times the model will cycle through the data. \n",
        "The more epochs we run, the more the model will improve, up to a certain point.\n",
        "After that point, the model will stop improving during each epoch. For our model, \n",
        "we will set the number of epochs to 3.\n",
        "\n",
        "batch_size-> number of samples per gradient update.\n",
        "\n",
        "validation_data-> For our validation data, we will use the test set provided to us in our dataset,\n",
        "which we have split into X_test and y_test.\n",
        "'''"
      ],
      "execution_count": 20,
      "outputs": [
        {
          "output_type": "stream",
          "text": [
            "Epoch 1/10\n",
            "94/94 [==============================] - 31s 22ms/step - loss: 0.9590 - accuracy: 0.6782 - val_loss: 0.4387 - val_accuracy: 0.8478\n",
            "Epoch 2/10\n",
            "94/94 [==============================] - 1s 16ms/step - loss: 0.4152 - accuracy: 0.8555 - val_loss: 0.3743 - val_accuracy: 0.8706\n",
            "Epoch 3/10\n",
            "94/94 [==============================] - 1s 16ms/step - loss: 0.3540 - accuracy: 0.8735 - val_loss: 0.3662 - val_accuracy: 0.8697\n",
            "Epoch 4/10\n",
            "94/94 [==============================] - 1s 16ms/step - loss: 0.3141 - accuracy: 0.8889 - val_loss: 0.3285 - val_accuracy: 0.8846\n",
            "Epoch 5/10\n",
            "94/94 [==============================] - 1s 16ms/step - loss: 0.2844 - accuracy: 0.8999 - val_loss: 0.3025 - val_accuracy: 0.8938\n",
            "Epoch 6/10\n",
            "94/94 [==============================] - 1s 16ms/step - loss: 0.2681 - accuracy: 0.9059 - val_loss: 0.3044 - val_accuracy: 0.8926\n",
            "Epoch 7/10\n",
            "94/94 [==============================] - 1s 16ms/step - loss: 0.2587 - accuracy: 0.9082 - val_loss: 0.2806 - val_accuracy: 0.9025\n",
            "Epoch 8/10\n",
            "94/94 [==============================] - 1s 16ms/step - loss: 0.2418 - accuracy: 0.9157 - val_loss: 0.2795 - val_accuracy: 0.9007\n",
            "Epoch 9/10\n",
            "94/94 [==============================] - 1s 16ms/step - loss: 0.2285 - accuracy: 0.9176 - val_loss: 0.2822 - val_accuracy: 0.8999\n",
            "Epoch 10/10\n",
            "94/94 [==============================] - 1s 16ms/step - loss: 0.2152 - accuracy: 0.9217 - val_loss: 0.2716 - val_accuracy: 0.9050\n"
          ],
          "name": "stdout"
        },
        {
          "output_type": "execute_result",
          "data": {
            "application/vnd.google.colaboratory.intrinsic+json": {
              "type": "string"
            },
            "text/plain": [
              "'\\nepochs-> The number of epochs is the number of times the model will cycle through the data. \\nThe more epochs we run, the more the model will improve, up to a certain point.\\nAfter that point, the model will stop improving during each epoch. For our model, \\nwe will set the number of epochs to 3.\\n\\nbatch_size-> number of samples per gradient update.\\n\\nvalidation_data-> For our validation data, we will use the test set provided to us in our dataset,\\nwhich we have split into X_test and y_test.\\n'"
            ]
          },
          "metadata": {
            "tags": []
          },
          "execution_count": 20
        }
      ]
    },
    {
      "cell_type": "markdown",
      "metadata": {
        "id": "MH27PPGDIU_F"
      },
      "source": [
        "### Test Model"
      ]
    },
    {
      "cell_type": "code",
      "metadata": {
        "colab": {
          "base_uri": "https://localhost:8080/"
        },
        "id": "OmDRnjBmIX2Z",
        "outputId": "2e03a138-d1af-4f4e-d758-81f51fa7320d"
      },
      "source": [
        "cnn_model.predict(np.expand_dims(X_test[0], axis=0)).round(2)\n",
        "# this image belong to 9th class because 9th class probability is high."
      ],
      "execution_count": 21,
      "outputs": [
        {
          "output_type": "execute_result",
          "data": {
            "text/plain": [
              "array([[0.  , 0.  , 0.  , 0.  , 0.  , 0.  , 0.  , 0.02, 0.  , 0.97]],\n",
              "      dtype=float32)"
            ]
          },
          "metadata": {
            "tags": []
          },
          "execution_count": 21
        }
      ]
    },
    {
      "cell_type": "code",
      "metadata": {
        "colab": {
          "base_uri": "https://localhost:8080/"
        },
        "id": "NJuGIk4kJGeb",
        "outputId": "cb05459b-4508-4a29-c5a6-ed433c51a8e6"
      },
      "source": [
        "# fetch max value from array\n",
        "np.argmax(cnn_model.predict(np.expand_dims(X_test[0], axis=0)).round(2))"
      ],
      "execution_count": 22,
      "outputs": [
        {
          "output_type": "execute_result",
          "data": {
            "text/plain": [
              "9"
            ]
          },
          "metadata": {
            "tags": []
          },
          "execution_count": 22
        }
      ]
    },
    {
      "cell_type": "code",
      "metadata": {
        "colab": {
          "base_uri": "https://localhost:8080/"
        },
        "id": "cv5MJy28J2Ff",
        "outputId": "2618cbef-69bd-456a-fa5c-08b6e6181a39"
      },
      "source": [
        "# check y_test label value and fetched array value\n",
        "y_test[0]"
      ],
      "execution_count": 23,
      "outputs": [
        {
          "output_type": "execute_result",
          "data": {
            "text/plain": [
              "9"
            ]
          },
          "metadata": {
            "tags": []
          },
          "execution_count": 23
        }
      ]
    },
    {
      "cell_type": "code",
      "metadata": {
        "colab": {
          "base_uri": "https://localhost:8080/"
        },
        "id": "ODxU6Es_KF5f",
        "outputId": "68dc0d5e-2fa6-444a-f5dc-f0eed46792b3"
      },
      "source": [
        "# prediction data\n",
        "y_pred = cnn_model.predict(X_test).round(2)\n",
        "y_pred"
      ],
      "execution_count": 24,
      "outputs": [
        {
          "output_type": "execute_result",
          "data": {
            "text/plain": [
              "array([[0.  , 0.  , 0.  , ..., 0.02, 0.  , 0.97],\n",
              "       [0.  , 0.  , 1.  , ..., 0.  , 0.  , 0.  ],\n",
              "       [0.  , 1.  , 0.  , ..., 0.  , 0.  , 0.  ],\n",
              "       ...,\n",
              "       [0.  , 0.  , 0.  , ..., 0.  , 0.98, 0.  ],\n",
              "       [0.  , 1.  , 0.  , ..., 0.  , 0.  , 0.  ],\n",
              "       [0.  , 0.  , 0.  , ..., 0.08, 0.02, 0.  ]], dtype=float32)"
            ]
          },
          "metadata": {
            "tags": []
          },
          "execution_count": 24
        }
      ]
    },
    {
      "cell_type": "code",
      "metadata": {
        "colab": {
          "base_uri": "https://localhost:8080/"
        },
        "id": "lqTfip4AKWu-",
        "outputId": "29dfe5f6-0d28-4028-fc50-d5548786491b"
      },
      "source": [
        "# model Evaluate(find accuracy of testing data)\n",
        "cnn_model.evaluate(X_test, y_test)"
      ],
      "execution_count": 25,
      "outputs": [
        {
          "output_type": "stream",
          "text": [
            "313/313 [==============================] - 1s 3ms/step - loss: 0.2841 - accuracy: 0.8940\n"
          ],
          "name": "stdout"
        },
        {
          "output_type": "execute_result",
          "data": {
            "text/plain": [
              "[0.28407540917396545, 0.8939999938011169]"
            ]
          },
          "metadata": {
            "tags": []
          },
          "execution_count": 25
        }
      ]
    },
    {
      "cell_type": "markdown",
      "metadata": {
        "id": "QGdOJRz2L8LD"
      },
      "source": [
        "### Visualize Output"
      ]
    },
    {
      "cell_type": "code",
      "metadata": {
        "colab": {
          "base_uri": "https://localhost:8080/",
          "height": 1000
        },
        "id": "lj6nZCi1L_Mc",
        "outputId": "a440faa7-b875-44af-f5ca-e5eb63fe4199"
      },
      "source": [
        "plt.figure(figsize=(16,30))\n",
        "\n",
        "j=1\n",
        "for i in np.random.randint(0, 1000, 60):\n",
        "  plt.subplot(10, 6, j); j+=1\n",
        "  plt.imshow(X_test[i].reshape(28,28), cmap='Greys')\n",
        "  plt.title('Actual = {} / {} \\nPredicted = {} / {}'.format(image_labels[y_test[i]], y_test[i], image_labels[np.argmax(y_pred[i])],np.argmax(y_pred[i])))\n",
        "  plt.axis('off')\n"
      ],
      "execution_count": 26,
      "outputs": [
        {
          "output_type": "display_data",
          "data": {
            "image/png": "[encoded data removed]",
            "text/plain": [
              "<Figure size 1152x2160 with 60 Axes>"
            ]
          },
          "metadata": {
            "tags": [],
            "needs_background": "light"
          }
        }
      ]
    },
    {
      "cell_type": "markdown",
      "metadata": {
        "id": "_FGyXa9PT-Sc"
      },
      "source": [
        "### Confusion Matrix"
      ]
    },
    {
      "cell_type": "code",
      "metadata": {
        "colab": {
          "base_uri": "https://localhost:8080/",
          "height": 554
        },
        "id": "0bAYAKcQUGp_",
        "outputId": "8516a555-05fe-404f-c518-0e6dd52f105d"
      },
      "source": [
        "from sklearn.metrics import confusion_matrix\n",
        "\n",
        "plt.figure(figsize=(16,9))\n",
        "y_pred_labels = [np.argmax(label) for label in y_pred]\n",
        "cm = confusion_matrix(y_test, y_pred_labels)\n",
        "\n",
        "# show cm using heatmap\n",
        "sns.heatmap(cm, annot=True, fmt='d', xticklabels=image_labels, yticklabels=image_labels )"
      ],
      "execution_count": 27,
      "outputs": [
        {
          "output_type": "execute_result",
          "data": {
            "text/plain": [
              "<matplotlib.axes._subplots.AxesSubplot at 0x7f3a111ac9d0>"
            ]
          },
          "metadata": {
            "tags": []
          },
          "execution_count": 27
        },
        {
          "output_type": "display_data",
          "data": {
            "image/png": "[encoded data removed]",
            "text/plain": [
              "<Figure size 1152x648 with 2 Axes>"
            ]
          },
          "metadata": {
            "tags": [],
            "needs_background": "light"
          }
        }
      ]
    },
    {
      "cell_type": "markdown",
      "metadata": {
        "id": "qJtfGeWAW3Dd"
      },
      "source": [
        "### Classification Report"
      ]
    },
    {
      "cell_type": "code",
      "metadata": {
        "colab": {
          "base_uri": "https://localhost:8080/"
        },
        "id": "UF42hUvNW6hH",
        "outputId": "fecaacc3-1511-4be0-a86d-74231748f0a8"
      },
      "source": [
        "from sklearn.metrics import classification_report\n",
        "cr = classification_report(y_test, y_pred_labels, target_names=image_labels)\n",
        "print(\"Classification Report are -> \\n \",cr)"
      ],
      "execution_count": 28,
      "outputs": [
        {
          "output_type": "stream",
          "text": [
            "Classification Report are -> \n",
            "                precision    recall  f1-score   support\n",
            "\n",
            " T-shirt/top       0.85      0.86      0.85      1000\n",
            "     Trouser       0.99      0.97      0.98      1000\n",
            "    Pullover       0.74      0.90      0.81      1000\n",
            "       Dress       0.89      0.89      0.89      1000\n",
            "        Coat       0.87      0.76      0.81      1000\n",
            "      Sandal       0.98      0.97      0.98      1000\n",
            "       Shirt       0.74      0.68      0.71      1000\n",
            "     Sneaker       0.95      0.97      0.96      1000\n",
            "         Bag       0.98      0.97      0.98      1000\n",
            "  Ankle boot       0.97      0.96      0.96      1000\n",
            "\n",
            "    accuracy                           0.89     10000\n",
            "   macro avg       0.90      0.89      0.89     10000\n",
            "weighted avg       0.90      0.89      0.89     10000\n",
            "\n"
          ],
          "name": "stdout"
        }
      ]
    },
    {
      "cell_type": "markdown",
      "metadata": {
        "id": "Wu7djJtMmwYW"
      },
      "source": [
        "### Save Model"
      ]
    },
    {
      "cell_type": "code",
      "metadata": {
        "id": "XTLCc29pmzhp"
      },
      "source": [
        "# 1. save in google colab\n",
        "cnn_model.save('Fashion_classification_cnn_model.h5')"
      ],
      "execution_count": 29,
      "outputs": []
    },
    {
      "cell_type": "code",
      "metadata": {
        "id": "Gdy_pETXoJ8z"
      },
      "source": [
        "# 2. save in google drive\n",
        "drive_folder_path = '/content/drive/MyDrive/Colab Saved Models/Fashion_classification_cnn_model.h5'\n",
        "cnn_model.save(drive_folder_path)"
      ],
      "execution_count": 30,
      "outputs": []
    },
    {
      "cell_type": "markdown",
      "metadata": {
        "id": "uhGE3Ma6qJ3I"
      },
      "source": [
        "### Load Models"
      ]
    },
    {
      "cell_type": "code",
      "metadata": {
        "id": "9oP6h0IfqNKz"
      },
      "source": [
        "# this model load from google drive if you can load model from colab then pass only model name.\n",
        "model_deploy = keras.models.load_model('/content/drive/MyDrive/Colab Saved Models/Fashion_classification_cnn_model.h5')"
      ],
      "execution_count": 31,
      "outputs": []
    },
    {
      "cell_type": "markdown",
      "metadata": {
        "id": "Hr4RusBBrBLJ"
      },
      "source": [
        "### now check model is perfectly working or not ?"
      ]
    },
    {
      "cell_type": "code",
      "metadata": {
        "colab": {
          "base_uri": "https://localhost:8080/"
        },
        "id": "k2SbpBqXrC4u",
        "outputId": "801c88e2-662b-4a94-b03c-1dd370b5dbb7"
      },
      "source": [
        "model_deploy.predict(X_test).round(2)"
      ],
      "execution_count": 32,
      "outputs": [
        {
          "output_type": "execute_result",
          "data": {
            "text/plain": [
              "array([[0.  , 0.  , 0.  , ..., 0.02, 0.  , 0.97],\n",
              "       [0.  , 0.  , 1.  , ..., 0.  , 0.  , 0.  ],\n",
              "       [0.  , 1.  , 0.  , ..., 0.  , 0.  , 0.  ],\n",
              "       ...,\n",
              "       [0.  , 0.  , 0.  , ..., 0.  , 0.98, 0.  ],\n",
              "       [0.  , 1.  , 0.  , ..., 0.  , 0.  , 0.  ],\n",
              "       [0.  , 0.  , 0.  , ..., 0.08, 0.02, 0.  ]], dtype=float32)"
            ]
          },
          "metadata": {
            "tags": []
          },
          "execution_count": 32
        }
      ]
    },
    {
      "cell_type": "code",
      "metadata": {
        "colab": {
          "base_uri": "https://localhost:8080/"
        },
        "id": "s1SMtS51rWb-",
        "outputId": "2b7b8fdf-affb-43e5-8ab6-42f17fbea7e4"
      },
      "source": [
        "# precdict single image\n",
        "model_deploy.predict(np.expand_dims(X_test[0], axis=0)).round(2)"
      ],
      "execution_count": 33,
      "outputs": [
        {
          "output_type": "execute_result",
          "data": {
            "text/plain": [
              "array([[0.  , 0.  , 0.  , 0.  , 0.  , 0.  , 0.  , 0.02, 0.  , 0.97]],\n",
              "      dtype=float32)"
            ]
          },
          "metadata": {
            "tags": []
          },
          "execution_count": 33
        }
      ]
    },
    {
      "cell_type": "code",
      "metadata": {
        "colab": {
          "base_uri": "https://localhost:8080/"
        },
        "id": "xjp0-QKqsEZ5",
        "outputId": "8e7ed9e0-7986-438a-c848-36b1ddf7fbab"
      },
      "source": [
        "# get labael of high probability\n",
        "np.argmax(model_deploy.predict(np.expand_dims(X_test[0], axis=0)))"
      ],
      "execution_count": 34,
      "outputs": [
        {
          "output_type": "execute_result",
          "data": {
            "text/plain": [
              "9"
            ]
          },
          "metadata": {
            "tags": []
          },
          "execution_count": 34
        }
      ]
    },
    {
      "cell_type": "markdown",
      "metadata": {
        "id": "VQfRo_XGthxJ"
      },
      "source": [
        "## Convolutional Neural Network-Building Complex Model for Improve accuracy of model"
      ]
    },
    {
      "cell_type": "code",
      "metadata": {
        "id": "-F49dUQbt5GI"
      },
      "source": [
        "# add many layers \n",
        "cnn1_1_model = keras.models.Sequential([\n",
        "                                     keras.layers.Conv2D(filters=32, kernel_size=3, strides=(1,1), padding='valid',activation= 'relu', input_shape=[28,28,1]),\n",
        "                                     keras.layers.MaxPool2D(pool_size=(2,2)),\n",
        "\n",
        "                                     keras.layers.Conv2D(filters=32, kernel_size=3, strides=(2,2), padding='same',activation= 'relu', input_shape=[28,28,1]),\n",
        "                                     keras.layers.MaxPool2D(pool_size=(2,2)),\n",
        "\n",
        "                                     keras.layers.Flatten(),\n",
        "\n",
        "                                     # neural network input layer\n",
        "                                     keras.layers.Dense(units=128, activation='relu'),\n",
        "                                     # dropout fun to regularize data or which helps prevent overfitting.\n",
        "                                     keras.layers.Dropout(0.25),\n",
        "                                     # 1st hidden layer\n",
        "                                     keras.layers.Dense(units=256, activation='relu'),\n",
        "                                     keras.layers.Dropout(0.25),\n",
        "                                     # 2nd hidden layer\n",
        "                                     keras.layers.Dense(units=128, activation='relu'),\n",
        "                                     # output layer\n",
        "                                     keras.layers.Dense(units=10, activation='softmax'),                                                                                                                                               \n",
        "])"
      ],
      "execution_count": 35,
      "outputs": []
    },
    {
      "cell_type": "code",
      "metadata": {
        "id": "spnE5FF4xR76"
      },
      "source": [
        "# compile model\n",
        "cnn1_1_model.compile(optimizer='adam', loss='sparse_categorical_crossentropy', metrics=['accuracy'])"
      ],
      "execution_count": 36,
      "outputs": []
    },
    {
      "cell_type": "code",
      "metadata": {
        "colab": {
          "base_uri": "https://localhost:8080/"
        },
        "id": "27BY1kFmxwVr",
        "outputId": "6071a1b3-9cda-4220-d19b-975acbd160f1"
      },
      "source": [
        "# train model\n",
        "cnn1_1_model.fit(X_train_data, y_train_data, epochs=40, batch_size=512, verbose=1, validation_data=(X_validate_data, y_validate_data))"
      ],
      "execution_count": 37,
      "outputs": [
        {
          "output_type": "stream",
          "text": [
            "Epoch 1/40\n",
            "94/94 [==============================] - 3s 22ms/step - loss: 1.5240 - accuracy: 0.4529 - val_loss: 0.5903 - val_accuracy: 0.7723\n",
            "Epoch 2/40\n",
            "94/94 [==============================] - 2s 18ms/step - loss: 0.5881 - accuracy: 0.7807 - val_loss: 0.4733 - val_accuracy: 0.8280\n",
            "Epoch 3/40\n",
            "94/94 [==============================] - 2s 18ms/step - loss: 0.4884 - accuracy: 0.8220 - val_loss: 0.4294 - val_accuracy: 0.8401\n",
            "Epoch 4/40\n",
            "94/94 [==============================] - 2s 18ms/step - loss: 0.4366 - accuracy: 0.8425 - val_loss: 0.3834 - val_accuracy: 0.8591\n",
            "Epoch 5/40\n",
            "94/94 [==============================] - 2s 18ms/step - loss: 0.3877 - accuracy: 0.8603 - val_loss: 0.3693 - val_accuracy: 0.8649\n",
            "Epoch 6/40\n",
            "94/94 [==============================] - 2s 18ms/step - loss: 0.3671 - accuracy: 0.8680 - val_loss: 0.3411 - val_accuracy: 0.8723\n",
            "Epoch 7/40\n",
            "94/94 [==============================] - 2s 18ms/step - loss: 0.3398 - accuracy: 0.8771 - val_loss: 0.3343 - val_accuracy: 0.8760\n",
            "Epoch 8/40\n",
            "94/94 [==============================] - 2s 18ms/step - loss: 0.3384 - accuracy: 0.8756 - val_loss: 0.3216 - val_accuracy: 0.8805\n",
            "Epoch 9/40\n",
            "94/94 [==============================] - 2s 18ms/step - loss: 0.3164 - accuracy: 0.8835 - val_loss: 0.3175 - val_accuracy: 0.8809\n",
            "Epoch 10/40\n",
            "94/94 [==============================] - 2s 18ms/step - loss: 0.3091 - accuracy: 0.8856 - val_loss: 0.3117 - val_accuracy: 0.8848\n",
            "Epoch 11/40\n",
            "94/94 [==============================] - 2s 18ms/step - loss: 0.2907 - accuracy: 0.8927 - val_loss: 0.2999 - val_accuracy: 0.8913\n",
            "Epoch 12/40\n",
            "94/94 [==============================] - 2s 18ms/step - loss: 0.2868 - accuracy: 0.8966 - val_loss: 0.3076 - val_accuracy: 0.8852\n",
            "Epoch 13/40\n",
            "94/94 [==============================] - 2s 18ms/step - loss: 0.2832 - accuracy: 0.8946 - val_loss: 0.3019 - val_accuracy: 0.8903\n",
            "Epoch 14/40\n",
            "94/94 [==============================] - 2s 18ms/step - loss: 0.2633 - accuracy: 0.9034 - val_loss: 0.2901 - val_accuracy: 0.8937\n",
            "Epoch 15/40\n",
            "94/94 [==============================] - 2s 18ms/step - loss: 0.2682 - accuracy: 0.9018 - val_loss: 0.2897 - val_accuracy: 0.8924\n",
            "Epoch 16/40\n",
            "94/94 [==============================] - 2s 18ms/step - loss: 0.2629 - accuracy: 0.9022 - val_loss: 0.2846 - val_accuracy: 0.8960\n",
            "Epoch 17/40\n",
            "94/94 [==============================] - 2s 18ms/step - loss: 0.2547 - accuracy: 0.9067 - val_loss: 0.2811 - val_accuracy: 0.8987\n",
            "Epoch 18/40\n",
            "94/94 [==============================] - 2s 18ms/step - loss: 0.2450 - accuracy: 0.9095 - val_loss: 0.2798 - val_accuracy: 0.8973\n",
            "Epoch 19/40\n",
            "94/94 [==============================] - 2s 18ms/step - loss: 0.2346 - accuracy: 0.9125 - val_loss: 0.2780 - val_accuracy: 0.8982\n",
            "Epoch 20/40\n",
            "94/94 [==============================] - 2s 18ms/step - loss: 0.2326 - accuracy: 0.9120 - val_loss: 0.2693 - val_accuracy: 0.9007\n",
            "Epoch 21/40\n",
            "94/94 [==============================] - 2s 18ms/step - loss: 0.2265 - accuracy: 0.9151 - val_loss: 0.2719 - val_accuracy: 0.9001\n",
            "Epoch 22/40\n",
            "94/94 [==============================] - 2s 18ms/step - loss: 0.2282 - accuracy: 0.9153 - val_loss: 0.2689 - val_accuracy: 0.9023\n",
            "Epoch 23/40\n",
            "94/94 [==============================] - 2s 18ms/step - loss: 0.2135 - accuracy: 0.9205 - val_loss: 0.2681 - val_accuracy: 0.9024\n",
            "Epoch 24/40\n",
            "94/94 [==============================] - 2s 18ms/step - loss: 0.2119 - accuracy: 0.9200 - val_loss: 0.2671 - val_accuracy: 0.9035\n",
            "Epoch 25/40\n",
            "94/94 [==============================] - 2s 18ms/step - loss: 0.2137 - accuracy: 0.9206 - val_loss: 0.2719 - val_accuracy: 0.9022\n",
            "Epoch 26/40\n",
            "94/94 [==============================] - 2s 18ms/step - loss: 0.2036 - accuracy: 0.9243 - val_loss: 0.2680 - val_accuracy: 0.9036\n",
            "Epoch 27/40\n",
            "94/94 [==============================] - 2s 18ms/step - loss: 0.1999 - accuracy: 0.9244 - val_loss: 0.2711 - val_accuracy: 0.8997\n",
            "Epoch 28/40\n",
            "94/94 [==============================] - 2s 18ms/step - loss: 0.2021 - accuracy: 0.9241 - val_loss: 0.2618 - val_accuracy: 0.9062\n",
            "Epoch 29/40\n",
            "94/94 [==============================] - 2s 18ms/step - loss: 0.1961 - accuracy: 0.9273 - val_loss: 0.2607 - val_accuracy: 0.9072\n",
            "Epoch 30/40\n",
            "94/94 [==============================] - 2s 18ms/step - loss: 0.1945 - accuracy: 0.9262 - val_loss: 0.2633 - val_accuracy: 0.9074\n",
            "Epoch 31/40\n",
            "94/94 [==============================] - 2s 18ms/step - loss: 0.1882 - accuracy: 0.9301 - val_loss: 0.2624 - val_accuracy: 0.9090\n",
            "Epoch 32/40\n",
            "94/94 [==============================] - 2s 18ms/step - loss: 0.1834 - accuracy: 0.9306 - val_loss: 0.2687 - val_accuracy: 0.9089\n",
            "Epoch 33/40\n",
            "94/94 [==============================] - 2s 18ms/step - loss: 0.1788 - accuracy: 0.9335 - val_loss: 0.2580 - val_accuracy: 0.9079\n",
            "Epoch 34/40\n",
            "94/94 [==============================] - 2s 18ms/step - loss: 0.1752 - accuracy: 0.9336 - val_loss: 0.2764 - val_accuracy: 0.9078\n",
            "Epoch 35/40\n",
            "94/94 [==============================] - 2s 18ms/step - loss: 0.1723 - accuracy: 0.9360 - val_loss: 0.2583 - val_accuracy: 0.9109\n",
            "Epoch 36/40\n",
            "94/94 [==============================] - 2s 18ms/step - loss: 0.1760 - accuracy: 0.9367 - val_loss: 0.2704 - val_accuracy: 0.9080\n",
            "Epoch 37/40\n",
            "94/94 [==============================] - 2s 18ms/step - loss: 0.1652 - accuracy: 0.9381 - val_loss: 0.2749 - val_accuracy: 0.9049\n",
            "Epoch 38/40\n",
            "94/94 [==============================] - 2s 18ms/step - loss: 0.1673 - accuracy: 0.9373 - val_loss: 0.2716 - val_accuracy: 0.9068\n",
            "Epoch 39/40\n",
            "94/94 [==============================] - 2s 18ms/step - loss: 0.1696 - accuracy: 0.9368 - val_loss: 0.2794 - val_accuracy: 0.9074\n",
            "Epoch 40/40\n",
            "94/94 [==============================] - 2s 18ms/step - loss: 0.1610 - accuracy: 0.9390 - val_loss: 0.2626 - val_accuracy: 0.9107\n"
          ],
          "name": "stdout"
        },
        {
          "output_type": "execute_result",
          "data": {
            "text/plain": [
              "<tensorflow.python.keras.callbacks.History at 0x7f395cb72f10>"
            ]
          },
          "metadata": {
            "tags": []
          },
          "execution_count": 37
        }
      ]
    },
    {
      "cell_type": "code",
      "metadata": {
        "colab": {
          "base_uri": "https://localhost:8080/"
        },
        "id": "GdRCAPSqyH5K",
        "outputId": "7b6bd0b7-dd51-4b1b-83d6-72110a9806ef"
      },
      "source": [
        "# model Evaluate(find accuracy of testing data)\n",
        "cnn_model.evaluate(X_test, y_test)"
      ],
      "execution_count": 38,
      "outputs": [
        {
          "output_type": "stream",
          "text": [
            "313/313 [==============================] - 1s 3ms/step - loss: 0.2841 - accuracy: 0.8940\n"
          ],
          "name": "stdout"
        },
        {
          "output_type": "execute_result",
          "data": {
            "text/plain": [
              "[0.28407540917396545, 0.8939999938011169]"
            ]
          },
          "metadata": {
            "tags": []
          },
          "execution_count": 38
        }
      ]
    },
    {
      "cell_type": "markdown",
      "metadata": {
        "id": "YfpAGVWnzXqH"
      },
      "source": [
        "## More Complex Cnn Model"
      ]
    },
    {
      "cell_type": "code",
      "metadata": {
        "id": "u-tzHFOazbry"
      },
      "source": [
        "# add many layers \n",
        "cnn1_2_model = keras.models.Sequential([\n",
        "                                     keras.layers.Conv2D(filters=64, kernel_size=3, strides=(1,1), padding='valid',activation= 'relu', input_shape=[28,28,1]),\n",
        "                                     keras.layers.MaxPool2D(pool_size=(2,2)),\n",
        "\n",
        "                                     keras.layers.Conv2D(filters=128, kernel_size=3, strides=(2,2), padding='same',activation= 'relu', input_shape=[28,28,1]),\n",
        "                                     keras.layers.MaxPool2D(pool_size=(2,2)),\n",
        "\n",
        "                                     keras.layers.Conv2D(filters=64, kernel_size=3, strides=(2,2), padding='same',activation= 'relu', input_shape=[28,28,1]),\n",
        "                                     keras.layers.MaxPool2D(pool_size=(2,2)),\n",
        "\n",
        "                                     keras.layers.Flatten(),\n",
        "\n",
        "                                     # neural network input layer\n",
        "                                     keras.layers.Dense(units=128, activation='relu'),\n",
        "                                     # dropout fun to regularize data or which helps prevent overfitting.\n",
        "                                     keras.layers.Dropout(0.25),\n",
        "                                     # 1st hidden layer\n",
        "                                     keras.layers.Dense(units=256, activation='relu'),\n",
        "                                     keras.layers.Dropout(0.5),\n",
        "                                     # 2nd hidden layer\n",
        "                                     keras.layers.Dense(units=256, activation='relu'),\n",
        "                                     keras.layers.Dropout(0.25),\n",
        "                                     # 3rd hidden layer\n",
        "                                     keras.layers.Dense(units=128, activation='relu'),\n",
        "                                     keras.layers.Dropout(0.10),\n",
        "                                     # output layer\n",
        "                                     keras.layers.Dense(units=10, activation='softmax'),                                                                                                                                               \n",
        "])"
      ],
      "execution_count": 39,
      "outputs": []
    },
    {
      "cell_type": "code",
      "metadata": {
        "id": "MRhNIjJj0XZO"
      },
      "source": [
        "# compile model\n",
        "cnn1_2_model.compile(optimizer='adam', loss='sparse_categorical_crossentropy', metrics=['accuracy'])"
      ],
      "execution_count": 40,
      "outputs": []
    },
    {
      "cell_type": "code",
      "metadata": {
        "colab": {
          "base_uri": "https://localhost:8080/"
        },
        "id": "sKAVEo7G0cDC",
        "outputId": "317ac2e4-57db-40df-c22d-ab9d101d74f8"
      },
      "source": [
        "# train model\n",
        "cnn1_2_model.fit(X_train_data, y_train_data, epochs=50, batch_size=512, verbose=1, validation_data=(X_validate_data, y_validate_data))"
      ],
      "execution_count": null,
      "outputs": [
        {
          "output_type": "stream",
          "text": [
            "Epoch 1/50\n",
            "94/94 [==============================] - 5s 45ms/step - loss: 1.6865 - accuracy: 0.3525 - val_loss: 0.6134 - val_accuracy: 0.7576\n",
            "Epoch 2/50\n",
            "94/94 [==============================] - 4s 39ms/step - loss: 0.6214 - accuracy: 0.7648 - val_loss: 0.4815 - val_accuracy: 0.8173\n",
            "Epoch 3/50\n",
            "94/94 [==============================] - 4s 39ms/step - loss: 0.4900 - accuracy: 0.8188 - val_loss: 0.4085 - val_accuracy: 0.8492\n",
            "Epoch 4/50\n",
            "94/94 [==============================] - 4s 39ms/step - loss: 0.4152 - accuracy: 0.8521 - val_loss: 0.3829 - val_accuracy: 0.8609\n",
            "Epoch 5/50\n",
            "94/94 [==============================] - 4s 39ms/step - loss: 0.3755 - accuracy: 0.8643 - val_loss: 0.3463 - val_accuracy: 0.8747\n",
            "Epoch 6/50\n",
            "94/94 [==============================] - 4s 39ms/step - loss: 0.3335 - accuracy: 0.8830 - val_loss: 0.3309 - val_accuracy: 0.8832\n",
            "Epoch 7/50\n",
            "94/94 [==============================] - 4s 39ms/step - loss: 0.3138 - accuracy: 0.8876 - val_loss: 0.3165 - val_accuracy: 0.8901\n",
            "Epoch 8/50\n",
            "94/94 [==============================] - 4s 39ms/step - loss: 0.2888 - accuracy: 0.8987 - val_loss: 0.3339 - val_accuracy: 0.8783\n",
            "Epoch 9/50\n",
            "94/94 [==============================] - 4s 39ms/step - loss: 0.2776 - accuracy: 0.9029 - val_loss: 0.3068 - val_accuracy: 0.8947\n",
            "Epoch 10/50\n",
            "85/94 [==========================>...] - ETA: 0s - loss: 0.2526 - accuracy: 0.9103"
          ],
          "name": "stdout"
        }
      ]
    },
    {
      "cell_type": "code",
      "metadata": {
        "id": "nfxYq02T0sBC"
      },
      "source": [
        "# model Evaluate(find accuracy of testing data)\n",
        "cnn1_2_model.evaluate(X_test, y_test)"
      ],
      "execution_count": null,
      "outputs": []
    },
    {
      "cell_type": "markdown",
      "metadata": {
        "id": "lczng4_z30Hm"
      },
      "source": [
        "# Thank You !"
      ]
    }
  ]
}